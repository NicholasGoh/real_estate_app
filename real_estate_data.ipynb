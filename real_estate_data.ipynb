{
 "cells": [
  {
   "cell_type": "code",
   "execution_count": 1,
   "metadata": {
    "id": "pRUs9KjMqIIY"
   },
   "outputs": [],
   "source": [
    "import json, requests, jdc\n",
    "import pandas as pd\n",
    "import numpy as np"
   ]
  },
  {
   "cell_type": "markdown",
   "metadata": {},
   "source": [
    "Create account from [API](https://www.ura.gov.sg/maps/api/#introduction) link"
   ]
  },
  {
   "cell_type": "code",
   "execution_count": 2,
   "metadata": {
    "id": "9SWSbeaqqIIc"
   },
   "outputs": [],
   "source": [
    "# this class will be defined across multiple cells\n",
    "class call_api():\n",
    "    def __init__(self, access_key=None):\n",
    "        # variables\n",
    "        self.access_key = None\n",
    "        self.token = None\n",
    "        self.header = None\n",
    "        self.residential_property_transactions = None\n",
    "        self.transactions = None\n",
    "        \n",
    "        # access key from account creation\n",
    "        self.access_key = '77144a24-fc1b-4358-b5b7-45d3a94a7aec' if not access_key else access_key\n",
    "\n",
    "        # generate token from access key valid for one day\n",
    "        url = 'https://www.ura.gov.sg/uraDataService/insertNewToken.action'\n",
    "        header = {'AccessKey': f'{access_key}'}\n",
    "        acc_info = requests.get(url, headers = header).json()\n",
    "        assert acc_info['Status'] == 'Success', 'Too many tokens have been generated recently. Use another access_key'\n",
    "        self.token = acc_info['Result']\n",
    "        self.header = {'AccessKey': f'{self.access_key}', 'Token': self.token}"
   ]
  },
  {
   "cell_type": "code",
   "execution_count": 3,
   "metadata": {},
   "outputs": [],
   "source": [
    "# instantiate for later use\n",
    "api = call_api('89d0c48b-dcb2-4798-89f5-c2f4f5caddd8')"
   ]
  },
  {
   "cell_type": "markdown",
   "metadata": {
    "id": "6WnUroOeqIIe"
   },
   "source": [
    "## Residential property transactions\n",
    "\n",
    "\n",
    "This data service will return past 5 years of private residential property transaction records in JSON format. As transaction records > 5 years ago could be modified/aborted, we would advise to refresh your database on a daily basis and just retain the latest 5 years record for better accuracy.\n",
    "\n",
    "Update Frequency: End of day of every Tuesday and Friday\n",
    "\n",
    "- `project`\tThe name of the project\n",
    "- `street`\tThe street name that the project is on.\n",
    "- `marketSegment`\tThe market segment that the property falls in.\n",
    "    - `CCR` – Core Central Region\n",
    "    - `RCR` – Rest of Central Region\n",
    "    - `OCR` – Outside Central Region\n",
    "- `x`\tThe x coordinates of the address of the property in SVY21 format. Important: This is the location of the property and does not represent the location of the transacted unit.\n",
    "- `y`\tThe y coordinates of the address of the property in SVY21 format. Important: This is the location of the property and does not represent the location of the transacted unit.\n",
    "- `transaction`\tAn array of transactions for this property\n",
    "    - `propertyType`\tThe property type of the transacted property. Note that there are properties with a mixture of property types.\n",
    "        - `Strata` Detached\n",
    "        - `Strata` Semidetached\n",
    "        - `Strata` Terrace\n",
    "        - `Detached`\n",
    "        - `Semi`-detached\n",
    "        - `Terrace`\n",
    "        - `Apartment`\n",
    "        - `Condominium`\n",
    "        - `Executive` Condominium\n",
    "    - `district`\tThe postal district that the transacted property falls in. Note that there are properties that fall across multiple postal district.\n",
    "    - `tenure`\tThe tenure of the transacted property. Note that there are properties that have units with multiple tenures.\n",
    "        - `Freehold`\n",
    "        - `xx` yrs lease commencing from yyyy\n",
    "    - `typeOfSale`\tThe type of sale\n",
    "        - `1` – New Sale\n",
    "        - `2` – Sub Sale\n",
    "        - `3` – Resale\n",
    "    - `noOfUnits`\tThe number of units in this transaction. The value for New Sale will always be 1. The value for Resale or Sub Sale could be greater than 1 depending on the number of units lodged for the caveat.\n",
    "    - `price`\tThe transacted price nettPrice\n",
    "    - `nettPrice`\tThe nett transacted price, excluding discounts if any. This field is only applicable for New Sale where discounts were given.\n",
    "    - `area`\tThe land/floor area of the transacted unit in square metre.\n",
    "    - `typeOfArea`\tThe type of area of the transacted unit.\n",
    "        - `Strata`\n",
    "        - `Land`\n",
    "        - `Unknown`\n",
    "    - `floorRange`\tThe floor range that the transacted unit falls within.\n",
    "        - `-`\n",
    "        - `B1`-B5\n",
    "        - `B6`-B10\n",
    "        - `01`-05\n",
    "        - `06`-10\n",
    "        ...\n",
    "    - `contractDate`\tThe data of sale for New Sale records or option exercised date for Resale and Sub Sale records. Field is in format of mmyy e.g. 1215 represents Dec 2015."
   ]
  },
  {
   "cell_type": "code",
   "execution_count": 9,
   "metadata": {},
   "outputs": [],
   "source": [
    "%%add_to call_api\n",
    "# above allows class to be defined across multiple cells\n",
    "def call_residential_property_transactions(self, call=False):\n",
    "    # call api once and keep in memory\n",
    "    if call:\n",
    "        url = 'https://www.ura.gov.sg/uraDataService/invokeUraDS?service=PMI_Resi_Transaction&batch=1'\n",
    "        data = requests.get(url, headers = self.header).json()\n",
    "    else:\n",
    "        assert self.residential_property_transactions != None, 'call_residential_property_transactions() has already been called once'\n",
    "        data = self.residential_property_transactions\n",
    "    self.residential_property_transactions = data['Result']"
   ]
  },
  {
   "cell_type": "code",
   "execution_count": 10,
   "metadata": {},
   "outputs": [],
   "source": [
    "# call once\n",
    "api.call_residential_property_transactions(call=True)"
   ]
  },
  {
   "cell_type": "code",
   "execution_count": 11,
   "metadata": {
    "scrolled": true
   },
   "outputs": [
    {
     "data": {
      "text/plain": [
       "[{'street': 'ZEHNDER ROAD',\n",
       "  'project': 'LANDED HOUSING DEVELOPMENT',\n",
       "  'transaction': [{'area': '314',\n",
       "    'floorRange': '-',\n",
       "    'noOfUnits': '1',\n",
       "    'contractDate': '0618',\n",
       "    'typeOfSale': '3',\n",
       "    'price': '4750000',\n",
       "    'propertyType': 'Semi-detached',\n",
       "    'district': '05',\n",
       "    'typeOfArea': 'Land',\n",
       "    'tenure': 'Freehold'},\n",
       "   {'area': '524.3',\n",
       "    'floorRange': '-',\n",
       "    'noOfUnits': '1',\n",
       "    'contractDate': '0220',\n",
       "    'typeOfSale': '3',\n",
       "    'price': '5500000',\n",
       "    'propertyType': 'Semi-detached',\n",
       "    'district': '05',\n",
       "    'typeOfArea': 'Land',\n",
       "    'tenure': 'Freehold'},\n",
       "   {'area': '308',\n",
       "    'floorRange': '-',\n",
       "    'noOfUnits': '1',\n",
       "    'contractDate': '0918',\n",
       "    'typeOfSale': '3',\n",
       "    'price': '5000000',\n",
       "    'propertyType': 'Semi-detached',\n",
       "    'district': '05',\n",
       "    'typeOfArea': 'Land',\n",
       "    'tenure': 'Freehold'}],\n",
       "  'marketSegment': 'RCR'},\n",
       " {'street': 'NEO PEE TECK LANE',\n",
       "  'project': 'LANDED HOUSING DEVELOPMENT',\n",
       "  'transaction': [{'area': '159.3',\n",
       "    'floorRange': '-',\n",
       "    'noOfUnits': '1',\n",
       "    'contractDate': '0320',\n",
       "    'typeOfSale': '3',\n",
       "    'price': '2630000',\n",
       "    'propertyType': 'Terrace',\n",
       "    'district': '05',\n",
       "    'typeOfArea': 'Land',\n",
       "    'tenure': 'Freehold'}],\n",
       "  'marketSegment': 'RCR'}]"
      ]
     },
     "execution_count": 11,
     "metadata": {},
     "output_type": "execute_result"
    }
   ],
   "source": [
    "# peek at the data\n",
    "api.residential_property_transactions[:2]"
   ]
  },
  {
   "cell_type": "code",
   "execution_count": 12,
   "metadata": {},
   "outputs": [],
   "source": [
    "%%add_to call_api\n",
    "def by_region(self, region):\n",
    "    '''\n",
    "    returns list of dictionaries containing information of each house\n",
    "    eg: [{house1 details},\n",
    "         {house2 details}, ...\n",
    "        ]\n",
    "    '''\n",
    "    assert self.residential_property_transactions != None, 'call residential_property_transactions() first'\n",
    "    assert region in ['CCR', 'RCR', 'OCR'], 'region must be in [\"CCR\", \"RCR\", \"OCR\"]'\n",
    "    self.transactions = None\n",
    "\n",
    "    for street in self.residential_property_transactions:\n",
    "        if street['marketSegment'] == region:\n",
    "            if self.transactions != None:\n",
    "                self.transactions += street['transaction']\n",
    "            else:\n",
    "                self.transactions = street['transaction']"
   ]
  },
  {
   "cell_type": "code",
   "execution_count": 13,
   "metadata": {},
   "outputs": [
    {
     "data": {
      "text/plain": [
       "[{'area': '258',\n",
       "  'floorRange': '01-05',\n",
       "  'noOfUnits': '1',\n",
       "  'contractDate': '0616',\n",
       "  'typeOfSale': '3',\n",
       "  'price': '3800000',\n",
       "  'propertyType': 'Condominium',\n",
       "  'district': '04',\n",
       "  'typeOfArea': 'Strata',\n",
       "  'tenure': '99 yrs lease commencing from 2007'},\n",
       " {'area': '226',\n",
       "  'floorRange': '01-05',\n",
       "  'noOfUnits': '1',\n",
       "  'contractDate': '0920',\n",
       "  'typeOfSale': '3',\n",
       "  'price': '3400000',\n",
       "  'propertyType': 'Condominium',\n",
       "  'district': '04',\n",
       "  'typeOfArea': 'Strata',\n",
       "  'tenure': '99 yrs lease commencing from 2007'}]"
      ]
     },
     "execution_count": 13,
     "metadata": {},
     "output_type": "execute_result"
    }
   ],
   "source": [
    "# filter by CCR\n",
    "api.by_region('CCR')\n",
    "# peek first 2 house info\n",
    "api.transactions[:2]"
   ]
  },
  {
   "cell_type": "markdown",
   "metadata": {},
   "source": [
    "Now we need think how to plot the graph first, we wan just all the price plot or like can toggle by type of house"
   ]
  },
  {
   "cell_type": "code",
   "execution_count": null,
   "metadata": {},
   "outputs": [],
   "source": []
  }
 ],
 "metadata": {
  "colab": {
   "name": "real_estate_data.ipynb",
   "provenance": []
  },
  "kernelspec": {
   "display_name": "real_estate",
   "language": "python",
   "name": "real_estate"
  },
  "language_info": {
   "codemirror_mode": {
    "name": "ipython",
    "version": 3
   },
   "file_extension": ".py",
   "mimetype": "text/x-python",
   "name": "python",
   "nbconvert_exporter": "python",
   "pygments_lexer": "ipython3",
   "version": "3.6.7"
  }
 },
 "nbformat": 4,
 "nbformat_minor": 1
}
